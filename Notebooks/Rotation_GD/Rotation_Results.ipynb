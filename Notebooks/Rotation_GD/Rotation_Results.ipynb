{
 "cells": [
  {
   "cell_type": "code",
   "execution_count": 4,
   "metadata": {
    "ExecuteTime": {
     "end_time": "2020-12-02T02:15:30.170985Z",
     "start_time": "2020-12-02T02:15:30.094654Z"
    }
   },
   "outputs": [],
   "source": [
    "from sklearn.preprocessing import PolynomialFeatures\n",
    "from datetime import datetime, timedelta\n",
    "from time import mktime\n",
    "# import 3d -> 2d function\n",
    "from convert2d import convert2d, Rotate_z, Rotate_y\n",
    "from Helpers_fixed import convert_cartesian,convert_ephemeri,generate_ephemeri, scale, scale_test, unscale_test, grad_descent2  \n",
    "from epicycloid_process_data import reverse_z_alignment\n",
    "from Rotation_GD import preprocess, generate_prediction\n",
    "\n",
    "import numpy as np\n",
    "import pandas as pd\n",
    "from sklearn.neural_network import MLPRegressor\n",
    "import matplotlib.pyplot as plt\n",
    "%matplotlib inline\n",
    "from mpl_toolkits.mplot3d import Axes3D\n",
    "from astropy.time import Time\n",
    "from astropy.coordinates import solar_system_ephemeris, EarthLocation\n",
    "from astropy.coordinates import get_body_barycentric, get_body, get_moon"
   ]
  },
  {
   "cell_type": "markdown",
   "metadata": {},
   "source": [
    "## Results: Rotation GD model\n",
    "\n",
    "Run this notebook to reproduce the results for the Rotation Gradient Descent Model."
   ]
  },
  {
   "cell_type": "code",
   "execution_count": 2,
   "metadata": {
    "ExecuteTime": {
     "end_time": "2020-12-02T00:47:18.620887Z",
     "start_time": "2020-12-02T00:37:50.476390Z"
    }
   },
   "outputs": [
    {
     "name": "stdout",
     "output_type": "stream",
     "text": [
      "Mercury\n",
      "train:  (5250, 3) test:  (5250, 3)\n"
     ]
    },
    {
     "name": "stderr",
     "output_type": "stream",
     "text": [
      "WARNING: Tried to get polar motions for times after IERS data is valid. Defaulting to polar motion from the 50-yr mean for those. This may affect precision at the 10s of arcsec level [astropy.coordinates.builtin_frames.utils]\n",
      "WARNING: ErfaWarning: ERFA function \"dtf2d\" yielded 1 of \"dubious year (Note 6)\" [astropy._erfa.core]\n",
      "WARNING: ErfaWarning: ERFA function \"utctai\" yielded 1 of \"dubious year (Note 3)\" [astropy._erfa.core]\n",
      "WARNING: ErfaWarning: ERFA function \"utcut1\" yielded 1 of \"dubious year (Note 3)\" [astropy._erfa.core]\n",
      "WARNING: ErfaWarning: ERFA function \"taiutc\" yielded 1 of \"dubious year (Note 4)\" [astropy._erfa.core]\n"
     ]
    },
    {
     "name": "stdout",
     "output_type": "stream",
     "text": [
      "Venus\n",
      "train:  (5250, 3) test:  (5250, 3)\n",
      "Mars\n",
      "train:  (5250, 3) test:  (5250, 3)\n",
      "Jupiter\n",
      "train:  (5250, 3) test:  (5250, 3)\n",
      "Saturn\n",
      "train:  (5250, 3) test:  (5250, 3)\n",
      "Uranus\n"
     ]
    },
    {
     "name": "stderr",
     "output_type": "stream",
     "text": [
      "ipynb.fs.full.convert2d:46: RuntimeWarning: invalid value encountered in true_divide\n"
     ]
    },
    {
     "name": "stdout",
     "output_type": "stream",
     "text": [
      "train:  (7000, 3) test:  (875, 3)\n",
      "Neptune\n",
      "train:  (7500, 3) test:  (3000, 3)\n"
     ]
    }
   ],
   "source": [
    "plans = ['Mercury','Venus', 'Mars', 'Jupiter', 'Saturn','Uranus', 'Neptune']\n",
    "RMSEs = np.zeros(7)\n",
    "for j,planet in enumerate(plans):\n",
    "    print(planet)\n",
    "    x_scl, y_scl, x_scl_test,y_scl_test, jup_train, jup_test, rotheta, phi, normal = preprocess(planet)\n",
    "    points = np.array([datetime.strptime(str(test_pnt), '%Y-%m-%d %H:%M:%S').strftime('%Y-%m-%d %H:%M:%S') for test_pnt in pd.date_range(start='2020-06-26 18:00:00', end='2025-11-26 18:00:00',freq='M')])    \n",
    "\n",
    "    error = [generate_prediction(planet, i, x_scl, y_scl, x_scl_test,y_scl_test, jup_train, jup_test, rotheta, phi, normal) for i in points]\n",
    "    RMSEs[j] = (1/len(error))*np.sum(error)"
   ]
  },
  {
   "cell_type": "code",
   "execution_count": 3,
   "metadata": {
    "ExecuteTime": {
     "end_time": "2020-12-02T00:57:17.466861Z",
     "start_time": "2020-12-02T00:57:17.456889Z"
    }
   },
   "outputs": [
    {
     "data": {
      "text/plain": [
       "array([1.48245149e+08, 1.48887303e+07, 4.81761178e+08, 4.11486954e+07,\n",
       "       3.02409531e+08, 3.82923643e+07, 1.50362215e+08])"
      ]
     },
     "execution_count": 3,
     "metadata": {},
     "output_type": "execute_result"
    }
   ],
   "source": [
    "RMSEs"
   ]
  },
  {
   "cell_type": "code",
   "execution_count": null,
   "metadata": {
    "ExecuteTime": {
     "end_time": "2020-12-01T23:30:13.244743Z",
     "start_time": "2020-12-01T23:28:49.017928Z"
    }
   },
   "outputs": [],
   "source": []
  },
  {
   "cell_type": "code",
   "execution_count": null,
   "metadata": {},
   "outputs": [],
   "source": []
  }
 ],
 "metadata": {
  "kernelspec": {
   "display_name": "Python 3",
   "language": "python",
   "name": "python3"
  },
  "language_info": {
   "codemirror_mode": {
    "name": "ipython",
    "version": 3
   },
   "file_extension": ".py",
   "mimetype": "text/x-python",
   "name": "python",
   "nbconvert_exporter": "python",
   "pygments_lexer": "ipython3",
   "version": "3.7.0"
  },
  "toc": {
   "base_numbering": 1,
   "nav_menu": {},
   "number_sections": true,
   "sideBar": true,
   "skip_h1_title": false,
   "title_cell": "Table of Contents",
   "title_sidebar": "Contents",
   "toc_cell": false,
   "toc_position": {},
   "toc_section_display": true,
   "toc_window_display": false
  }
 },
 "nbformat": 4,
 "nbformat_minor": 2
}
