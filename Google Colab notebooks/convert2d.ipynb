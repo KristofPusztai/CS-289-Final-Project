{
 "cells": [
  {
   "cell_type": "code",
   "execution_count": 1,
   "metadata": {
    "ExecuteTime": {
     "end_time": "2020-11-25T07:20:46.288975Z",
     "start_time": "2020-11-25T07:20:44.468758Z"
    },
    "id": "DdkTO5yAESqp"
   },
   "outputs": [],
   "source": [
    "import numpy as np\n",
    "import matplotlib.pyplot as plt\n",
    "import pandas as pd\n",
    "from mpl_toolkits.mplot3d import Axes3D"
   ]
  },
  {
   "cell_type": "code",
   "execution_count": 9,
   "metadata": {
    "ExecuteTime": {
     "end_time": "2020-11-25T07:21:09.633290Z",
     "start_time": "2020-11-25T07:21:09.613342Z"
    },
    "id": "lkrGBfMdESqq"
   },
   "outputs": [],
   "source": [
    "def draw_vector(vector, ax, scale=1):\n",
    "    vector = vector\n",
    "    origin = np.array([0,0,0])\n",
    "    vec = np.vstack((origin, vector))*scale\n",
    "    ax.plot(vec[:,0],vec[:,1],vec[:,2])"
   ]
  },
  {
   "cell_type": "code",
   "execution_count": 67,
   "metadata": {
    "ExecuteTime": {
     "end_time": "2020-11-25T08:39:16.407791Z",
     "start_time": "2020-11-25T08:39:16.384339Z"
    },
    "id": "F05TS8wBESqq"
   },
   "outputs": [],
   "source": [
    "def generate_plane_vector(data, n=1000,local=True):\n",
    "    \"\"\"\n",
    "    Takes cartesian coordinates\n",
    "    produces a normal vector in cartesian\n",
    "    \"\"\"\n",
    "    unit_plane = np.array([0.0,0.0,0.0])\n",
    "    \n",
    "    for i in range(n):\n",
    "        index1, index2, index3 = 0,0,0\n",
    "        if local:\n",
    "            ## Get three points that are spatially close together\n",
    "            ## This method seems better and more consistent\n",
    "            index1 = np.random.randint(0, len(data)-4)\n",
    "            index2 = index1 + 1\n",
    "            index3 = index2 + 1\n",
    "        else:\n",
    "            ## Get three random points\n",
    "            index1 = np.random.randint(0, len(data))\n",
    "            index2 = np.random.randint(0, len(data))\n",
    "            index3 = np.random.randint(0, len(data))\n",
    "        \n",
    "        p1 = data[index1,0:3]\n",
    "        p2 = data[index2,0:3]\n",
    "        p3 = data[index3,0:3]\n",
    "        \n",
    "        vec1 = p2-p1\n",
    "        vec2 = p3-p1\n",
    "        plane_vector = np.cross(vec1, vec2)\n",
    "        plane_vector = plane_vector/np.linalg.norm(plane_vector)\n",
    "        \n",
    "        unit_plane += plane_vector\n",
    "    \n",
    "    unit_plane = unit_plane / n\n",
    "    unit_plane = unit_plane / np.linalg.norm(unit_plane)\n",
    "    return unit_plane"
   ]
  },
  {
   "cell_type": "code",
   "execution_count": 11,
   "metadata": {
    "ExecuteTime": {
     "end_time": "2020-11-25T07:21:09.981520Z",
     "start_time": "2020-11-25T07:21:09.960576Z"
    },
    "id": "0IaSUqUaESqq"
   },
   "outputs": [],
   "source": [
    "def Rotate_z(data, theta):\n",
    "    \"\"\"\n",
    "    Rotate data theta clockwise around z axis\n",
    "    \"\"\"\n",
    "    Rz = np.array([[np.cos(theta),-np.sin(theta), 0],\n",
    "                 [np.sin(theta), np.cos(theta), 0],\n",
    "                 [0, 0, 1]])\n",
    "    new_data = Rz @ data.T\n",
    "    return new_data.T\n",
    "\n",
    "def Rotate_y(data, theta):\n",
    "    \"\"\"\n",
    "    Rotate data theta clockwise around y axis\n",
    "    \"\"\"\n",
    "    Ry = np.array([[np.cos(theta),0, np.sin(theta)],\n",
    "                 [0,1,0],\n",
    "                 [-np.sin(theta), 0, np.cos(theta)]])\n",
    "    new_data = Ry @ data.T\n",
    "    return new_data.T"
   ]
  },
  {
   "cell_type": "code",
   "execution_count": 1,
   "metadata": {
    "ExecuteTime": {
     "end_time": "2020-11-28T08:34:02.333781Z",
     "start_time": "2020-11-28T08:34:02.318820Z"
    },
    "id": "5dwNY_S5ESqq",
    "outputId": "6cf5b2f9-b2d0-4a3e-83eb-d2b9abdf5bbd"
   },
   "outputs": [],
   "source": [
    "def convert2d(data='', file=''):\n",
    "    \"\"\"\n",
    "    In: Raw csv data/file path from planet. \n",
    "    Uses rotation matrices and normal vector to rotate 3D epicycloid \n",
    "    s.t. it is parallel to XY plane.\n",
    "    Out: Pandas df [Time | 'X', 'Y', 'Z']\n",
    "    \"\"\"\n",
    "    if file == '':\n",
    "        \n",
    "        cartesian = data[['X','Y','Z']].to_numpy()\n",
    "        normal = generate_plane_vector(cartesian,local=True)\n",
    "        phi = np.arccos(normal[2])\n",
    "        theta = np.arctan(normal[1]/normal[0])\n",
    "        if normal[0] < 0:\n",
    "            theta = -theta\n",
    "        flat = Rotate_z(cartesian, -theta)\n",
    "        flat = Rotate_y(flat, -phi)\n",
    "    elif data == '':\n",
    "#         try:\n",
    "        data = pd.read_csv(file)\n",
    "#         except:\n",
    "#             print(\"Call with file or data\")\n",
    "        cartesian = data[['X','Y','Z']].to_numpy()\n",
    "        normal = generate_plane_vector(cartesian,local=True)\n",
    "        phi = np.arccos(normal[2])\n",
    "        theta = np.arctan(normal[1]/normal[0])\n",
    "        if normal[0] < 0:\n",
    "            theta = -theta\n",
    "        flat = Rotate_z(cartesian, -theta)\n",
    "        flat = Rotate_y(flat, -phi)\n",
    "    idx = data['Time']\n",
    "    flat_df = pd.DataFrame(flat,index=idx, columns=['X', 'Y', 'Z'])\n",
    "    return flat_df, theta, phi\n",
    "# ff = convert2d(file=\"Mercury2x.csv\")\n",
    "# ff\n",
    "# fig1= plt.figure(figsize=(20,20))\n",
    "# ax1 = fig1.add_subplot(111)\n",
    "# plt.plot(ff['X'], ff['Y'])\n",
    "# ax1.set_aspect('equal', adjustable=\"box\")"
   ]
  },
  {
   "cell_type": "markdown",
   "metadata": {},
   "source": [
    "# Example: Mercury 3D to 2D"
   ]
  },
  {
   "cell_type": "code",
   "execution_count": 62,
   "metadata": {
    "ExecuteTime": {
     "end_time": "2020-11-25T08:37:17.772377Z",
     "start_time": "2020-11-25T08:37:17.752432Z"
    }
   },
   "outputs": [],
   "source": [
    "\n",
    "# data = pd.read_csv(\"Mercury2x.csv\")\n",
    "# # \n",
    "# mercury_cartesian=data[['X','Y','Z']].to_numpy()\n",
    "# fig = plt.figure(figsize=(7,7))\n",
    "# ax = fig.gca(projection='3d')\n",
    "# for i in range(10):\n",
    "#     normal = generate_plane_vector(mercury_cartesian,local=True)\n",
    "#     phi = np.arccos(normal[2])\n",
    "#     theta = np.arctan(normal[1]/normal[0])\n",
    "#     normal_prime = Rotate_z(normal, -theta)\n",
    "#     normal_prime = Rotate_y(normal_prime, -phi)\n",
    "#     print(normal_prime)\n",
    "#     draw_vector(normal_prime, ax)\n",
    "\n",
    "# ax.set_xlim(-2, 2)\n",
    "# ax.set_ylim(-2, 2)\n",
    "# ax.set_zlim(0, 4)\n",
    "\n",
    "# ax.set_xlabel('X axis')\n",
    "# ax.set_ylabel('Y axis')\n",
    "# ax.set_zlabel('Z axis')\n",
    "\n",
    "# plt.show()\n"
   ]
  },
  {
   "cell_type": "code",
   "execution_count": 61,
   "metadata": {
    "ExecuteTime": {
     "end_time": "2020-11-25T08:37:16.346790Z",
     "start_time": "2020-11-25T08:37:16.328834Z"
    },
    "id": "X81Dtm9GESqs",
    "outputId": "83d15a34-e0b8-4d56-a181-49c6b08afcde"
   },
   "outputs": [],
   "source": [
    "# fig = plt.figure(figsize=(7,7))\n",
    "# ax = fig.gca(projection='3d')\n",
    "# for i in range(10):\n",
    "#     normal = generate_plane_vector(mercury_cartesian,local=True)\n",
    "#     draw_vector(normal,ax,scale=100000000)\n",
    "# ax.plot(mercury_cartesian[:,0],mercury_cartesian[:,1],mercury_cartesian[:,2],'b')\n",
    "# ax.view_init(45,0)\n",
    "# plt.show()"
   ]
  },
  {
   "cell_type": "code",
   "execution_count": 36,
   "metadata": {
    "ExecuteTime": {
     "end_time": "2020-11-25T07:54:22.317605Z",
     "start_time": "2020-11-25T07:54:22.164725Z"
    },
    "id": "cxbwkXhFESqs"
   },
   "outputs": [],
   "source": [
    "# normal = generate_plane_vector(mercury_cartesian,local=True)\n",
    "# phi = np.arccos(normal[2])\n",
    "# theta = np.arctan(normal[1]/normal[0])"
   ]
  },
  {
   "cell_type": "code",
   "execution_count": 63,
   "metadata": {
    "ExecuteTime": {
     "end_time": "2020-11-25T08:37:28.586275Z",
     "start_time": "2020-11-25T08:37:28.570261Z"
    },
    "id": "VwjAOAgcESqs",
    "outputId": "44aab9dd-70b5-4b42-bc08-64c3e4f60286"
   },
   "outputs": [],
   "source": [
    "# normal_prime = Rotate_z(normal, -theta)\n",
    "# normal_prime = Rotate_y(normal_prime, -phi)\n",
    "\n",
    "# mercury_flat = Rotate_z(mercury_cartesian, -theta)\n",
    "# mercury_flat = Rotate_y(mercury_flat, -phi)\n",
    "\n",
    "# plt.plot(mercury_flat[:,0], mercury_flat[:,1])\n",
    "# fig = plt.figure(figsize=(7,7))\n",
    "# ax = fig.gca(projection='3d')\n",
    "# draw_vector(normal_prime, ax, scale=20000000)\n",
    "\n",
    "# ax.plot(mercury_cartesian[:,0],mercury_cartesian[:,1],mercury_cartesian[:,2],'r')\n",
    "# ax.plot(mercury_flat[:,0],mercury_flat[:,1],mercury_flat[:,2],'b')\n",
    "\n",
    "# ax.set_xlabel('X axis')\n",
    "# ax.set_ylabel('Y axis')\n",
    "# ax.set_zlabel('Z axis')\n",
    "\n",
    "# ax.view_init(0,0)\n",
    "# plt.show()"
   ]
  },
  {
   "cell_type": "code",
   "execution_count": 64,
   "metadata": {
    "ExecuteTime": {
     "end_time": "2020-11-25T08:37:31.432738Z",
     "start_time": "2020-11-25T08:37:31.427752Z"
    },
    "id": "vPg6g29GESqt",
    "outputId": "7795f0e5-a0ee-4275-b2e8-c9b666be251b"
   },
   "outputs": [],
   "source": [
    "# plt.plot(mercury_flat[:,2])\n",
    "# plt.xlabel(\"Time\")\n",
    "# plt.ylabel(\"Z\")\n",
    "# plt.show()"
   ]
  },
  {
   "cell_type": "code",
   "execution_count": 65,
   "metadata": {
    "ExecuteTime": {
     "end_time": "2020-11-25T08:37:35.893865Z",
     "start_time": "2020-11-25T08:37:35.884855Z"
    },
    "id": "JJ4rOPF7ESqt",
    "outputId": "712c45b3-1378-4797-aa40-530302426e84"
   },
   "outputs": [],
   "source": [
    "# fig1= plt.figure(figsize=(20,20))\n",
    "# ax1 = fig1.add_subplot(111)\n",
    "# plt.plot(mercury_cartesian[:,0], mercury_cartesian[:,1])\n",
    "# ax1.set_aspect('equal', adjustable=\"box\")\n",
    "\n",
    "# ax2 = fig2.add_subplot(121)\n",
    "# # ax2 = fig2.gca(projection='3d')\n",
    "# plt.plot(mercury_flat[:,0], mercury_flat[:,1])\n",
    "# ax2.set_aspect('equal', adjustable=\"box\")"
   ]
  },
  {
   "cell_type": "code",
   "execution_count": null,
   "metadata": {},
   "outputs": [],
   "source": []
  },
  {
   "cell_type": "code",
   "execution_count": null,
   "metadata": {},
   "outputs": [],
   "source": []
  }
 ],
 "metadata": {
  "colab": {
   "name": "Perp Vectors.ipynb",
   "provenance": []
  },
  "kernelspec": {
   "display_name": "Python 3",
   "language": "python",
   "name": "python3"
  },
  "language_info": {
   "codemirror_mode": {
    "name": "ipython",
    "version": 3
   },
   "file_extension": ".py",
   "mimetype": "text/x-python",
   "name": "python",
   "nbconvert_exporter": "python",
   "pygments_lexer": "ipython3",
   "version": "3.7.0"
  },
  "toc": {
   "base_numbering": 1,
   "nav_menu": {},
   "number_sections": true,
   "sideBar": true,
   "skip_h1_title": false,
   "title_cell": "Table of Contents",
   "title_sidebar": "Contents",
   "toc_cell": false,
   "toc_position": {},
   "toc_section_display": true,
   "toc_window_display": false
  }
 },
 "nbformat": 4,
 "nbformat_minor": 1
}
